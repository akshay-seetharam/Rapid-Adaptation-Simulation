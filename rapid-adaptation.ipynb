{
 "cells": [
  {
   "cell_type": "markdown",
   "metadata": {
    "pycharm": {
     "name": "#%% md\n"
    }
   },
   "source": [
    "# Organism\n",
    "In the simplest model, there is only a class for the **Organism**. Each organism reproduces asexually with the parameter that an individual's population $f(t)$ is governed by $f(t) = f(0)e^{st}$ where $s$ is a fitness parameter determined by an organism's individual fitness. Some individuals will acquire a beneficial mutation with probability $U_b$, increasing their fitness, whereas others may acquire a detrimental mutation with probability $U_d$. To implement this mechanistically, *while keeping population size constant*, we first convert the fitness $s$ to an expected number of offspring for each organism.\n",
    "\n",
    "## Number of Offspring Derivation\n",
    "$$\\begin{align}\n",
    "f(t) &= f(0)e^{st} \\\\\n",
    "     &= f(0)\\left(2^{\\log_2(e)}\\right)^{st} \\\\\n",
    "     &= f(0)2^{\\frac{s}{\\ln(2)}t}\n",
    "\\end{align}$$\n",
    "\n",
    "Converting the base of the exponential to $2$ allows us to see that if each organism reproduced once every generation (i.e. the pedigree of the organism doubles), $\\frac{s}{\\ln(2)} = 1$. Let $\\mu_n$ denote the average number of offspring from each organism. Then, $s = \\mu_n\\ln(2)$.\n",
    "\n",
    "# Reproduction Simulation\n",
    "A naïve approach to rep"
   ]
  },
  {
   "cell_type": "code",
   "execution_count": 82,
   "metadata": {
    "pycharm": {
     "name": "#%%\n"
    }
   },
   "outputs": [],
   "source": [
    "import numpy as np\n",
    "\n",
    "class Population:\n",
    "    def __init__(self, Ub, Ud, size):\n",
    "        \"\"\"\n",
    "        Creates Population (see Organism specs)\n",
    "        \"\"\"\n",
    "        self.Ub = Ub\n",
    "        self.Ud = Ud\n",
    "        self.gens = [[]]\n",
    "        \n",
    "        for i in range(size):\n",
    "            self.gens[0].append(Organism(np.random.random(), Ub, Ud))\n",
    "            \n",
    "    def __str__(self):\n",
    "        return f'population with size {len(self.gens[-1])}, {len(self.gens)} generations, Ub {self.Ub}, Ud {self.Ud}'\n",
    "            \n",
    "    def reproduce(self):\n",
    "        self.gens.append([])\n",
    "        fitnesses = [org.s for org in self.gens[-2]]\n",
    "        \n",
    "        \n",
    "        \n",
    "        print(fitnesses)\n",
    "        for org in self.gens[-2]:\n",
    "            self.gens[-1].append(org.reproduce())\n",
    "\n",
    "class Organism:\n",
    "    def __init__(self, s, Ub, Ud, parent=None):\n",
    "        \"\"\"\n",
    "        Creates Organism object with fitness s, beneficial mutation rate Ub, detrimental mutation rate Ud, and\n",
    "        a parent, which is either another Organism object or None if in the parent generation\n",
    "        \"\"\"\n",
    "        self.s = s\n",
    "        self.Ub = Ub\n",
    "        self.Ud = Ud\n",
    "        self.parent = parent\n",
    "        self.children = []\n",
    "    \n",
    "    def __str__(self):\n",
    "        return f'organism with fitness {self.s}'\n",
    "        \n",
    "    def reproduce(self):\n",
    "        \"\"\"\n",
    "        reproduces and gives mutation accordingly\n",
    "        adds resultant Organism to self.children\n",
    "        returns resultant Organism\n",
    "        \"\"\"\n",
    "        \n",
    "        if np.random.random() < self.Ub:\n",
    "            self.s += self.s * 0.01\n",
    "        \n",
    "        if np.random.random() < self.Ud:\n",
    "            self.s -= self.s * 0.01\n",
    "            \n",
    "        print(self)\n",
    "        \n",
    "        return Organism(self.s, self.Ub, self.Ud, parent=self)"
   ]
  },
  {
   "cell_type": "code",
   "execution_count": 83,
   "metadata": {},
   "outputs": [
    {
     "name": "stdout",
     "output_type": "stream",
     "text": [
      "[0.7737962133858186, 0.4505091498270415, 0.4307715048766657, 0.2983362550045432, 0.7530856092823603, 0.30603445220405345, 0.3434798129220912, 0.11947612783521644, 0.44356763563299595, 0.30224805928666065]\n",
      "organism with fitness 0.7737962133858186\n",
      "organism with fitness 0.4505091498270415\n",
      "organism with fitness 0.4307715048766657\n",
      "organism with fitness 0.2983362550045432\n",
      "organism with fitness 0.7530856092823603\n",
      "organism with fitness 0.30603445220405345\n",
      "organism with fitness 0.3434798129220912\n",
      "organism with fitness 0.11947612783521644\n",
      "organism with fitness 0.44356763563299595\n",
      "organism with fitness 0.30224805928666065\n",
      "[0.7737962133858186, 0.4505091498270415, 0.4307715048766657, 0.2983362550045432, 0.7530856092823603, 0.30603445220405345, 0.3434798129220912, 0.11947612783521644, 0.44356763563299595, 0.30224805928666065]\n",
      "organism with fitness 0.7737962133858186\n",
      "organism with fitness 0.4505091498270415\n",
      "organism with fitness 0.4307715048766657\n",
      "organism with fitness 0.2983362550045432\n",
      "organism with fitness 0.7530856092823603\n",
      "organism with fitness 0.30603445220405345\n",
      "organism with fitness 0.3434798129220912\n",
      "organism with fitness 0.11947612783521644\n",
      "organism with fitness 0.44356763563299595\n",
      "organism with fitness 0.30224805928666065\n",
      "population with size 10, 3 generations, Ub 0.0001, Ud 0.001\n",
      "(3, 10)\n"
     ]
    }
   ],
   "source": [
    "from pprint import pprint\n",
    "\n",
    "bacteria = Population(10**(-4), 10**(-3), 10)\n",
    "bacteria.reproduce()\n",
    "bacteria.reproduce()\n",
    "\n",
    "print(bacteria)\n",
    "print(np.asarray(bacteria.gens).shape)"
   ]
  }
 ],
 "metadata": {
  "kernelspec": {
   "display_name": "Python 3 (ipykernel)",
   "language": "python",
   "name": "python3"
  },
  "language_info": {
   "codemirror_mode": {
    "name": "ipython",
    "version": 3
   },
   "file_extension": ".py",
   "mimetype": "text/x-python",
   "name": "python",
   "nbconvert_exporter": "python",
   "pygments_lexer": "ipython3",
   "version": "3.9.12"
  }
 },
 "nbformat": 4,
 "nbformat_minor": 1
}