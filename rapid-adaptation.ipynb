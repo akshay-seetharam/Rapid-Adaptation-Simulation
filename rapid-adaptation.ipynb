{
 "cells": [
  {
   "cell_type": "markdown",
   "metadata": {
    "pycharm": {
     "name": "#%% md\n"
    }
   },
   "source": [
    "# Organism WRONG WRONG WRONG\n",
    "In the simplest model, there is only a class for the **Organism**. Each organism reproduces asexually with the parameter that an individual's population $f(t)$ is governed by $f(t) = f(0)e^{st}$ where $s$ is a fitness parameter determined by an organism's individual fitness. Some individuals will acquire a beneficial mutation with probability $U_b$, increasing their fitness, whereas others may acquire a detrimental mutation with probability $U_d$. To implement this mechanistically, *while keeping population size constant*, we first convert the fitness $s$ to an expected number of offspring for each organism."
   ]
  },
  {
   "cell_type": "code",
   "execution_count": 81,
   "metadata": {
    "pycharm": {
     "name": "#%%\n"
    }
   },
   "outputs": [],
   "source": [
    "import numpy as np\n",
    "import math\n",
    "import random\n",
    "\n",
    "class Population:\n",
    "    def __init__(self, Ub, Ud, size):\n",
    "        \"\"\"\n",
    "        Creates Population (see Organism specs)\n",
    "        \"\"\"\n",
    "        self.Ub = Ub\n",
    "        self.Ud = Ud\n",
    "        self.gens = [[]]\n",
    "        self.size = size\n",
    "        \n",
    "        for i in range(self.size):\n",
    "            self.gens[0].append(Organism(np.random.random(), Ub, Ud, [len(self.gens)-1, i]))\n",
    "            \n",
    "    def __str__(self):\n",
    "        return f'population with size {len(self.gens[-1])}, {len(self.gens)} generations, Ub {self.Ub}, Ud {self.Ud}'\n",
    "            \n",
    "    def reproduce(self):\n",
    "        \n",
    "        self.gens.append([])\n",
    "        weights = [math.exp(org.s) for org in self.gens[-2]]\n",
    "        \n",
    "        for i in range(self.size):\n",
    "            choice = random.choices(self.gens[-2], weights=weights)[0]\n",
    "            self.gens[-1].append(choice.reproduce([len(self.gens)-1, i]))\n",
    "\n",
    "class Organism:\n",
    "    def __init__(self, s, Ub, Ud, index, parent=None):\n",
    "        \"\"\"\n",
    "        Creates Organism object with fitness s, beneficial mutation rate Ub, detrimental mutation rate Ud, and\n",
    "        a parent, which is either another Organism object or None if in the parent generation\n",
    "        index = [gen, number in gen]\n",
    "        \"\"\"\n",
    "        self.s = s\n",
    "        self.Ub = Ub\n",
    "        self.Ud = Ud\n",
    "        self.index = index\n",
    "        self.parent = parent\n",
    "        self.children = []\n",
    "    \n",
    "    def __str__(self):\n",
    "        return f'organism {self.index}'\n",
    "        \n",
    "    def reproduce(self, index):\n",
    "        \"\"\"\n",
    "        reproduces and gives mutation accordingly\n",
    "        adds resultant Organism to self.children\n",
    "        returns resultant Organism\n",
    "        \"\"\"\n",
    "        \n",
    "        if np.random.random() < self.Ub:\n",
    "            self.s += self.s * 0.01\n",
    "        \n",
    "        if np.random.random() < self.Ud:\n",
    "            self.s -= self.s * 0.01\n",
    "        \n",
    "        child = Organism(self.s, self.Ub, self.Ud, index, parent=self)\n",
    "        self.children.append(child)\n",
    "        \n",
    "        return child"
   ]
  },
  {
   "cell_type": "code",
   "execution_count": 84,
   "metadata": {},
   "outputs": [
    {
     "name": "stdout",
     "output_type": "stream",
     "text": [
      "population with size 10, 100 generations, Ub 0.0001, Ud 0.001\n",
      "(100, 10)\n",
      "--- 0.013664007186889648 seconds ---\n"
     ]
    }
   ],
   "source": [
    "from pprint import pprint\n",
    "import time\n",
    "\n",
    "start_time = time.time()\n",
    "\n",
    "bacteria = Population(10**(-4), 10**(-3), 10**1)\n",
    "\n",
    "num_gens = 99\n",
    "for i in range(num_gens):\n",
    "    bacteria.reproduce()\n",
    "\n",
    "print(bacteria)\n",
    "print(np.asarray(bacteria.gens).shape)\n",
    "# for gen in bacteria.gens:\n",
    "#     pprint([str(org) for org in gen])\n",
    "    \n",
    "print(\"--- %s seconds ---\" % (time.time() - start_time))"
   ]
  },
  {
   "cell_type": "code",
   "execution_count": null,
   "metadata": {},
   "outputs": [],
   "source": [
    "import networkx as nx\n",
    "import pydot\n",
    "from networkx.drawing.nx_pydot import graphviz_layout\n",
    "\n",
    "G = nx.DiGraph()\n",
    "\n",
    "ancestor = random.choices(bacteria.gens[0])\n",
    "\n",
    "G.add_node(ancestor)\n",
    "\n",
    "# trace lineage of each organism in parent generation\n",
    "while \n",
    "\n",
    "\n",
    "nx.draw(G, with_labels=True, node_color = ['blue'])\n",
    "\n",
    "print(\"--- %s seconds ---\" % (time.time() - start_time))"
   ]
  }
 ],
 "metadata": {
  "kernelspec": {
   "display_name": "Python 3 (ipykernel)",
   "language": "python",
   "name": "python3"
  },
  "language_info": {
   "codemirror_mode": {
    "name": "ipython",
    "version": 3
   },
   "file_extension": ".py",
   "mimetype": "text/x-python",
   "name": "python",
   "nbconvert_exporter": "python",
   "pygments_lexer": "ipython3",
   "version": "3.9.12"
  }
 },
 "nbformat": 4,
 "nbformat_minor": 1
}