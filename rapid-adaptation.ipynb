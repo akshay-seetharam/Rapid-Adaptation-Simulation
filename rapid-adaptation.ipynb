{
 "cells": [
  {
   "cell_type": "markdown",
   "metadata": {
    "pycharm": {
     "name": "#%% md\n"
    }
   },
   "source": [
    "# Organism\n",
    "In the simplest model, there is only a class for the **Organism**. Each organism reproduces asexually with the parameter that an individual's population $f(t)$ is governed by $f(t) = f(0)e^{st}$ where $s$ is a fitness parameter determined by an organism's individual fitness. Some individuals will acquire a beneficial mutation with probability $U_b$, increasing their fitness, whereas others may acquire a detrimental mutation with probability $U_d$. To implement this mechanistically, *while keeping population size constant*, we first convert the fitness $s$ to an expected number of offspring for each organism.\n",
    "\n",
    "## Number of Offspring Derivation\n",
    "$$\\begin{align}\n",
    "f(t) &= f(0)e^{st} \\\\\n",
    "     &= f(0)\\left(2^{\\log_2(e)}\\right)^{st} \\\\\n",
    "     &= f(0)2^{\\frac{s}{\\ln(2)}t}\n",
    "\\end{align}$$\n",
    "\n",
    "Converting the base of the exponential to $2$ allows us to see that if each organism reproduced once every generation (i.e. the pedigree of the organism doubles), $\\frac{s}{\\ln(2)} = 1$. Let $\\mu_i$ denote the average number of offspring the organism $i$. Then, $\\mu_i = \\frac{s}{\\ln(2)}$.\n",
    "\n",
    "# Reproduction Simulation\n",
    "A naïve approach to reproduction would have each organism spawn offspring with some probability distribution based on fitness. Yet, this may not satisfy a key requirement: the population must remain constant. Let that population size be denoted $n$. We conceptualize $n$ slots that need to be filled. For each slot, every organism then \"competes\" (in a loose sense of the word) with a weighted probability $P = \\frac{\\mu_i}{\\sum_i \\mu_i}$ to have one of their offspring occupy that slot in the next generation."
   ]
  },
  {
   "cell_type": "code",
   "execution_count": 3,
   "metadata": {
    "pycharm": {
     "name": "#%%\n"
    }
   },
   "outputs": [],
   "source": [
    "import numpy as np\n",
    "\n",
    "class Population:\n",
    "    def __init__(self, Ub, Ud, size):\n",
    "        \"\"\"\n",
    "        Creates Population (see Organism specs)\n",
    "        \"\"\"\n",
    "        self.Ub = Ub\n",
    "        self.Ud = Ud\n",
    "        self.gens = [[]]\n",
    "        self.size = size\n",
    "        \n",
    "        for i in range(self.size):\n",
    "            self.gens[0].append(Organism(np.random.random(), Ub, Ud, i))\n",
    "            \n",
    "    def __str__(self):\n",
    "        return f'population with size {len(self.gens[-1])}, {len(self.gens)} generations, Ub {self.Ub}, Ud {self.Ud}'\n",
    "            \n",
    "    def reproduce(self):\n",
    "        \n",
    "        self.gens.append([])\n",
    "        \n",
    "        for i in range(self.size):\n",
    "            weights = [org.s for org in self.gens[-2]]\n",
    "            weights = weights\n",
    "            choice = random.choices(self.gens[-2], weights=weights)\n",
    "        \n",
    "        \n",
    "        \n",
    "        print(fitnesses)\n",
    "        for org in self.gens[-2]:\n",
    "            self.gens[-1].append(org.reproduce())\n",
    "\n",
    "class Organism:\n",
    "    def __init__(self, s, Ub, Ud, index, parent=None):\n",
    "        \"\"\"\n",
    "        Creates Organism object with fitness s, beneficial mutation rate Ub, detrimental mutation rate Ud, and\n",
    "        a parent, which is either another Organism object or None if in the parent generation\n",
    "        \"\"\"\n",
    "        self.s = s\n",
    "        self.Ub = Ub\n",
    "        self.Ud = Ud\n",
    "        self.index = index\n",
    "        self.parent = parent\n",
    "        self.children = []\n",
    "    \n",
    "    def __str__(self):\n",
    "        return f'organism {self.index}'\n",
    "        \n",
    "    def reproduce(self):\n",
    "        \"\"\"\n",
    "        reproduces and gives mutation accordingly\n",
    "        adds resultant Organism to self.children\n",
    "        returns resultant Organism\n",
    "        \"\"\"\n",
    "        \n",
    "        if np.random.random() < self.Ub:\n",
    "            self.s += self.s * 0.01\n",
    "        \n",
    "        if np.random.random() < self.Ud:\n",
    "            self.s -= self.s * 0.01\n",
    "            \n",
    "        print(self)\n",
    "        \n",
    "        return Organism(self.s, self.Ub, self.Ud, parent=self)"
   ]
  },
  {
   "cell_type": "code",
   "execution_count": 4,
   "metadata": {},
   "outputs": [
    {
     "name": "stdout",
     "output_type": "stream",
     "text": [
      "[0.5519918513858838, 0.805068633207302, 0.4097043972208415, 0.43232583991996854, 0.10939644713756524, 0.36999151303615674, 0.4086084766046356, 0.13241642860922676, 0.28477855392351903, 0.8669852669543257]\n",
      "organism 0\n"
     ]
    },
    {
     "ename": "TypeError",
     "evalue": "__init__() missing 1 required positional argument: 'index'",
     "output_type": "error",
     "traceback": [
      "\u001B[0;31m---------------------------------------------------------------------------\u001B[0m",
      "\u001B[0;31mTypeError\u001B[0m                                 Traceback (most recent call last)",
      "Input \u001B[0;32mIn [4]\u001B[0m, in \u001B[0;36m<cell line: 4>\u001B[0;34m()\u001B[0m\n\u001B[1;32m      1\u001B[0m \u001B[38;5;28;01mfrom\u001B[39;00m \u001B[38;5;21;01mpprint\u001B[39;00m \u001B[38;5;28;01mimport\u001B[39;00m pprint\n\u001B[1;32m      3\u001B[0m bacteria \u001B[38;5;241m=\u001B[39m Population(\u001B[38;5;241m10\u001B[39m\u001B[38;5;241m*\u001B[39m\u001B[38;5;241m*\u001B[39m(\u001B[38;5;241m-\u001B[39m\u001B[38;5;241m4\u001B[39m), \u001B[38;5;241m10\u001B[39m\u001B[38;5;241m*\u001B[39m\u001B[38;5;241m*\u001B[39m(\u001B[38;5;241m-\u001B[39m\u001B[38;5;241m3\u001B[39m), \u001B[38;5;241m10\u001B[39m)\n\u001B[0;32m----> 4\u001B[0m \u001B[43mbacteria\u001B[49m\u001B[38;5;241;43m.\u001B[39;49m\u001B[43mreproduce\u001B[49m\u001B[43m(\u001B[49m\u001B[43m)\u001B[49m\n\u001B[1;32m      5\u001B[0m bacteria\u001B[38;5;241m.\u001B[39mreproduce()\n\u001B[1;32m      7\u001B[0m \u001B[38;5;28mprint\u001B[39m(bacteria)\n",
      "Input \u001B[0;32mIn [3]\u001B[0m, in \u001B[0;36mPopulation.reproduce\u001B[0;34m(self)\u001B[0m\n\u001B[1;32m     24\u001B[0m \u001B[38;5;28mprint\u001B[39m(fitnesses)\n\u001B[1;32m     25\u001B[0m \u001B[38;5;28;01mfor\u001B[39;00m org \u001B[38;5;129;01min\u001B[39;00m \u001B[38;5;28mself\u001B[39m\u001B[38;5;241m.\u001B[39mgens[\u001B[38;5;241m-\u001B[39m\u001B[38;5;241m2\u001B[39m]:\n\u001B[0;32m---> 26\u001B[0m     \u001B[38;5;28mself\u001B[39m\u001B[38;5;241m.\u001B[39mgens[\u001B[38;5;241m-\u001B[39m\u001B[38;5;241m1\u001B[39m]\u001B[38;5;241m.\u001B[39mappend(\u001B[43morg\u001B[49m\u001B[38;5;241;43m.\u001B[39;49m\u001B[43mreproduce\u001B[49m\u001B[43m(\u001B[49m\u001B[43m)\u001B[49m)\n",
      "Input \u001B[0;32mIn [3]\u001B[0m, in \u001B[0;36mOrganism.reproduce\u001B[0;34m(self)\u001B[0m\n\u001B[1;32m     55\u001B[0m     \u001B[38;5;28mself\u001B[39m\u001B[38;5;241m.\u001B[39ms \u001B[38;5;241m-\u001B[39m\u001B[38;5;241m=\u001B[39m \u001B[38;5;28mself\u001B[39m\u001B[38;5;241m.\u001B[39ms \u001B[38;5;241m*\u001B[39m \u001B[38;5;241m0.01\u001B[39m\n\u001B[1;32m     57\u001B[0m \u001B[38;5;28mprint\u001B[39m(\u001B[38;5;28mself\u001B[39m)\n\u001B[0;32m---> 59\u001B[0m \u001B[38;5;28;01mreturn\u001B[39;00m \u001B[43mOrganism\u001B[49m\u001B[43m(\u001B[49m\u001B[38;5;28;43mself\u001B[39;49m\u001B[38;5;241;43m.\u001B[39;49m\u001B[43ms\u001B[49m\u001B[43m,\u001B[49m\u001B[43m \u001B[49m\u001B[38;5;28;43mself\u001B[39;49m\u001B[38;5;241;43m.\u001B[39;49m\u001B[43mUb\u001B[49m\u001B[43m,\u001B[49m\u001B[43m \u001B[49m\u001B[38;5;28;43mself\u001B[39;49m\u001B[38;5;241;43m.\u001B[39;49m\u001B[43mUd\u001B[49m\u001B[43m,\u001B[49m\u001B[43m \u001B[49m\u001B[43mparent\u001B[49m\u001B[38;5;241;43m=\u001B[39;49m\u001B[38;5;28;43mself\u001B[39;49m\u001B[43m)\u001B[49m\n",
      "\u001B[0;31mTypeError\u001B[0m: __init__() missing 1 required positional argument: 'index'"
     ]
    }
   ],
   "source": [
    "from pprint import pprint\n",
    "\n",
    "bacteria = Population(10**(-4), 10**(-3), 10)\n",
    "bacteria.reproduce()\n",
    "bacteria.reproduce()\n",
    "\n",
    "print(bacteria)\n",
    "print(np.asarray(bacteria.gens).shape)"
   ]
  }
 ],
 "metadata": {
  "kernelspec": {
   "display_name": "Python 3 (ipykernel)",
   "language": "python",
   "name": "python3"
  },
  "language_info": {
   "codemirror_mode": {
    "name": "ipython",
    "version": 3
   },
   "file_extension": ".py",
   "mimetype": "text/x-python",
   "name": "python",
   "nbconvert_exporter": "python",
   "pygments_lexer": "ipython3",
   "version": "3.9.12"
  }
 },
 "nbformat": 4,
 "nbformat_minor": 1
}